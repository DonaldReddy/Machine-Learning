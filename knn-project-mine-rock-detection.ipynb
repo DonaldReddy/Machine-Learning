{
 "cells": [
  {
   "cell_type": "code",
   "execution_count": 1,
   "id": "20571977",
   "metadata": {
    "_cell_guid": "b1076dfc-b9ad-4769-8c92-a6c4dae69d19",
    "_uuid": "8f2839f25d086af736a60e9eeb907d3b93b6e0e5",
    "execution": {
     "iopub.execute_input": "2023-03-25T15:05:01.949053Z",
     "iopub.status.busy": "2023-03-25T15:05:01.948648Z",
     "iopub.status.idle": "2023-03-25T15:05:01.964541Z",
     "shell.execute_reply": "2023-03-25T15:05:01.963586Z"
    },
    "papermill": {
     "duration": 0.030476,
     "end_time": "2023-03-25T15:05:01.967388",
     "exception": false,
     "start_time": "2023-03-25T15:05:01.936912",
     "status": "completed"
    },
    "tags": []
   },
   "outputs": [
    {
     "name": "stdout",
     "output_type": "stream",
     "text": [
      "/kaggle/input/sonar-mine-dataset/sonar data.csv\n"
     ]
    }
   ],
   "source": [
    "# This Python 3 environment comes with many helpful analytics libraries installed\n",
    "# It is defined by the kaggle/python Docker image: https://github.com/kaggle/docker-python\n",
    "# For example, here's several helpful packages to load\n",
    "\n",
    "import numpy as np # linear algebra\n",
    "import pandas as pd # data processing, CSV file I/O (e.g. pd.read_csv)\n",
    "\n",
    "# Input data files are available in the read-only \"../input/\" directory\n",
    "# For example, running this (by clicking run or pressing Shift+Enter) will list all files under the input directory\n",
    "\n",
    "import os\n",
    "for dirname, _, filenames in os.walk('/kaggle/input'):\n",
    "    for filename in filenames:\n",
    "        print(os.path.join(dirname, filename))\n",
    "\n",
    "# You can write up to 20GB to the current directory (/kaggle/working/) that gets preserved as output when you create a version using \"Save & Run All\" \n",
    "# You can also write temporary files to /kaggle/temp/, but they won't be saved outside of the current session"
   ]
  },
  {
   "cell_type": "code",
   "execution_count": 2,
   "id": "6b83c6d4",
   "metadata": {
    "execution": {
     "iopub.execute_input": "2023-03-25T15:05:01.986335Z",
     "iopub.status.busy": "2023-03-25T15:05:01.985883Z",
     "iopub.status.idle": "2023-03-25T15:05:02.008132Z",
     "shell.execute_reply": "2023-03-25T15:05:02.007140Z"
    },
    "papermill": {
     "duration": 0.034544,
     "end_time": "2023-03-25T15:05:02.010825",
     "exception": false,
     "start_time": "2023-03-25T15:05:01.976281",
     "status": "completed"
    },
    "tags": []
   },
   "outputs": [],
   "source": [
    "df=pd.read_csv(\"/kaggle/input/sonar-mine-dataset/sonar data.csv\")"
   ]
  },
  {
   "cell_type": "code",
   "execution_count": 3,
   "id": "3d5216a8",
   "metadata": {
    "execution": {
     "iopub.execute_input": "2023-03-25T15:05:02.030466Z",
     "iopub.status.busy": "2023-03-25T15:05:02.029596Z",
     "iopub.status.idle": "2023-03-25T15:05:02.073836Z",
     "shell.execute_reply": "2023-03-25T15:05:02.072828Z"
    },
    "papermill": {
     "duration": 0.056435,
     "end_time": "2023-03-25T15:05:02.076011",
     "exception": false,
     "start_time": "2023-03-25T15:05:02.019576",
     "status": "completed"
    },
    "tags": []
   },
   "outputs": [
    {
     "data": {
      "text/html": [
       "<div>\n",
       "<style scoped>\n",
       "    .dataframe tbody tr th:only-of-type {\n",
       "        vertical-align: middle;\n",
       "    }\n",
       "\n",
       "    .dataframe tbody tr th {\n",
       "        vertical-align: top;\n",
       "    }\n",
       "\n",
       "    .dataframe thead th {\n",
       "        text-align: right;\n",
       "    }\n",
       "</style>\n",
       "<table border=\"1\" class=\"dataframe\">\n",
       "  <thead>\n",
       "    <tr style=\"text-align: right;\">\n",
       "      <th></th>\n",
       "      <th>0.0200</th>\n",
       "      <th>0.0371</th>\n",
       "      <th>0.0428</th>\n",
       "      <th>0.0207</th>\n",
       "      <th>0.0954</th>\n",
       "      <th>0.0986</th>\n",
       "      <th>0.1539</th>\n",
       "      <th>0.1601</th>\n",
       "      <th>0.3109</th>\n",
       "      <th>0.2111</th>\n",
       "      <th>...</th>\n",
       "      <th>0.0027</th>\n",
       "      <th>0.0065</th>\n",
       "      <th>0.0159</th>\n",
       "      <th>0.0072</th>\n",
       "      <th>0.0167</th>\n",
       "      <th>0.0180</th>\n",
       "      <th>0.0084</th>\n",
       "      <th>0.0090</th>\n",
       "      <th>0.0032</th>\n",
       "      <th>R</th>\n",
       "    </tr>\n",
       "  </thead>\n",
       "  <tbody>\n",
       "    <tr>\n",
       "      <th>0</th>\n",
       "      <td>0.0453</td>\n",
       "      <td>0.0523</td>\n",
       "      <td>0.0843</td>\n",
       "      <td>0.0689</td>\n",
       "      <td>0.1183</td>\n",
       "      <td>0.2583</td>\n",
       "      <td>0.2156</td>\n",
       "      <td>0.3481</td>\n",
       "      <td>0.3337</td>\n",
       "      <td>0.2872</td>\n",
       "      <td>...</td>\n",
       "      <td>0.0084</td>\n",
       "      <td>0.0089</td>\n",
       "      <td>0.0048</td>\n",
       "      <td>0.0094</td>\n",
       "      <td>0.0191</td>\n",
       "      <td>0.0140</td>\n",
       "      <td>0.0049</td>\n",
       "      <td>0.0052</td>\n",
       "      <td>0.0044</td>\n",
       "      <td>R</td>\n",
       "    </tr>\n",
       "    <tr>\n",
       "      <th>1</th>\n",
       "      <td>0.0262</td>\n",
       "      <td>0.0582</td>\n",
       "      <td>0.1099</td>\n",
       "      <td>0.1083</td>\n",
       "      <td>0.0974</td>\n",
       "      <td>0.2280</td>\n",
       "      <td>0.2431</td>\n",
       "      <td>0.3771</td>\n",
       "      <td>0.5598</td>\n",
       "      <td>0.6194</td>\n",
       "      <td>...</td>\n",
       "      <td>0.0232</td>\n",
       "      <td>0.0166</td>\n",
       "      <td>0.0095</td>\n",
       "      <td>0.0180</td>\n",
       "      <td>0.0244</td>\n",
       "      <td>0.0316</td>\n",
       "      <td>0.0164</td>\n",
       "      <td>0.0095</td>\n",
       "      <td>0.0078</td>\n",
       "      <td>R</td>\n",
       "    </tr>\n",
       "    <tr>\n",
       "      <th>2</th>\n",
       "      <td>0.0100</td>\n",
       "      <td>0.0171</td>\n",
       "      <td>0.0623</td>\n",
       "      <td>0.0205</td>\n",
       "      <td>0.0205</td>\n",
       "      <td>0.0368</td>\n",
       "      <td>0.1098</td>\n",
       "      <td>0.1276</td>\n",
       "      <td>0.0598</td>\n",
       "      <td>0.1264</td>\n",
       "      <td>...</td>\n",
       "      <td>0.0121</td>\n",
       "      <td>0.0036</td>\n",
       "      <td>0.0150</td>\n",
       "      <td>0.0085</td>\n",
       "      <td>0.0073</td>\n",
       "      <td>0.0050</td>\n",
       "      <td>0.0044</td>\n",
       "      <td>0.0040</td>\n",
       "      <td>0.0117</td>\n",
       "      <td>R</td>\n",
       "    </tr>\n",
       "    <tr>\n",
       "      <th>3</th>\n",
       "      <td>0.0762</td>\n",
       "      <td>0.0666</td>\n",
       "      <td>0.0481</td>\n",
       "      <td>0.0394</td>\n",
       "      <td>0.0590</td>\n",
       "      <td>0.0649</td>\n",
       "      <td>0.1209</td>\n",
       "      <td>0.2467</td>\n",
       "      <td>0.3564</td>\n",
       "      <td>0.4459</td>\n",
       "      <td>...</td>\n",
       "      <td>0.0031</td>\n",
       "      <td>0.0054</td>\n",
       "      <td>0.0105</td>\n",
       "      <td>0.0110</td>\n",
       "      <td>0.0015</td>\n",
       "      <td>0.0072</td>\n",
       "      <td>0.0048</td>\n",
       "      <td>0.0107</td>\n",
       "      <td>0.0094</td>\n",
       "      <td>R</td>\n",
       "    </tr>\n",
       "    <tr>\n",
       "      <th>4</th>\n",
       "      <td>0.0286</td>\n",
       "      <td>0.0453</td>\n",
       "      <td>0.0277</td>\n",
       "      <td>0.0174</td>\n",
       "      <td>0.0384</td>\n",
       "      <td>0.0990</td>\n",
       "      <td>0.1201</td>\n",
       "      <td>0.1833</td>\n",
       "      <td>0.2105</td>\n",
       "      <td>0.3039</td>\n",
       "      <td>...</td>\n",
       "      <td>0.0045</td>\n",
       "      <td>0.0014</td>\n",
       "      <td>0.0038</td>\n",
       "      <td>0.0013</td>\n",
       "      <td>0.0089</td>\n",
       "      <td>0.0057</td>\n",
       "      <td>0.0027</td>\n",
       "      <td>0.0051</td>\n",
       "      <td>0.0062</td>\n",
       "      <td>R</td>\n",
       "    </tr>\n",
       "  </tbody>\n",
       "</table>\n",
       "<p>5 rows × 61 columns</p>\n",
       "</div>"
      ],
      "text/plain": [
       "   0.0200  0.0371  0.0428  0.0207  0.0954  0.0986  0.1539  0.1601  0.3109  \\\n",
       "0  0.0453  0.0523  0.0843  0.0689  0.1183  0.2583  0.2156  0.3481  0.3337   \n",
       "1  0.0262  0.0582  0.1099  0.1083  0.0974  0.2280  0.2431  0.3771  0.5598   \n",
       "2  0.0100  0.0171  0.0623  0.0205  0.0205  0.0368  0.1098  0.1276  0.0598   \n",
       "3  0.0762  0.0666  0.0481  0.0394  0.0590  0.0649  0.1209  0.2467  0.3564   \n",
       "4  0.0286  0.0453  0.0277  0.0174  0.0384  0.0990  0.1201  0.1833  0.2105   \n",
       "\n",
       "   0.2111  ...  0.0027  0.0065  0.0159  0.0072  0.0167  0.0180  0.0084  \\\n",
       "0  0.2872  ...  0.0084  0.0089  0.0048  0.0094  0.0191  0.0140  0.0049   \n",
       "1  0.6194  ...  0.0232  0.0166  0.0095  0.0180  0.0244  0.0316  0.0164   \n",
       "2  0.1264  ...  0.0121  0.0036  0.0150  0.0085  0.0073  0.0050  0.0044   \n",
       "3  0.4459  ...  0.0031  0.0054  0.0105  0.0110  0.0015  0.0072  0.0048   \n",
       "4  0.3039  ...  0.0045  0.0014  0.0038  0.0013  0.0089  0.0057  0.0027   \n",
       "\n",
       "   0.0090  0.0032  R  \n",
       "0  0.0052  0.0044  R  \n",
       "1  0.0095  0.0078  R  \n",
       "2  0.0040  0.0117  R  \n",
       "3  0.0107  0.0094  R  \n",
       "4  0.0051  0.0062  R  \n",
       "\n",
       "[5 rows x 61 columns]"
      ]
     },
     "execution_count": 3,
     "metadata": {},
     "output_type": "execute_result"
    }
   ],
   "source": [
    "df.head()"
   ]
  },
  {
   "cell_type": "code",
   "execution_count": 4,
   "id": "56c2d109",
   "metadata": {
    "execution": {
     "iopub.execute_input": "2023-03-25T15:05:02.096597Z",
     "iopub.status.busy": "2023-03-25T15:05:02.095496Z",
     "iopub.status.idle": "2023-03-25T15:05:02.121965Z",
     "shell.execute_reply": "2023-03-25T15:05:02.120632Z"
    },
    "papermill": {
     "duration": 0.039959,
     "end_time": "2023-03-25T15:05:02.124987",
     "exception": false,
     "start_time": "2023-03-25T15:05:02.085028",
     "status": "completed"
    },
    "tags": []
   },
   "outputs": [
    {
     "name": "stdout",
     "output_type": "stream",
     "text": [
      "<class 'pandas.core.frame.DataFrame'>\n",
      "RangeIndex: 207 entries, 0 to 206\n",
      "Data columns (total 61 columns):\n",
      " #   Column  Non-Null Count  Dtype  \n",
      "---  ------  --------------  -----  \n",
      " 0   0.0200  207 non-null    float64\n",
      " 1   0.0371  207 non-null    float64\n",
      " 2   0.0428  207 non-null    float64\n",
      " 3   0.0207  207 non-null    float64\n",
      " 4   0.0954  207 non-null    float64\n",
      " 5   0.0986  207 non-null    float64\n",
      " 6   0.1539  207 non-null    float64\n",
      " 7   0.1601  207 non-null    float64\n",
      " 8   0.3109  207 non-null    float64\n",
      " 9   0.2111  207 non-null    float64\n",
      " 10  0.1609  207 non-null    float64\n",
      " 11  0.1582  207 non-null    float64\n",
      " 12  0.2238  207 non-null    float64\n",
      " 13  0.0645  207 non-null    float64\n",
      " 14  0.0660  207 non-null    float64\n",
      " 15  0.2273  207 non-null    float64\n",
      " 16  0.3100  207 non-null    float64\n",
      " 17  0.2999  207 non-null    float64\n",
      " 18  0.5078  207 non-null    float64\n",
      " 19  0.4797  207 non-null    float64\n",
      " 20  0.5783  207 non-null    float64\n",
      " 21  0.5071  207 non-null    float64\n",
      " 22  0.4328  207 non-null    float64\n",
      " 23  0.5550  207 non-null    float64\n",
      " 24  0.6711  207 non-null    float64\n",
      " 25  0.6415  207 non-null    float64\n",
      " 26  0.7104  207 non-null    float64\n",
      " 27  0.8080  207 non-null    float64\n",
      " 28  0.6791  207 non-null    float64\n",
      " 29  0.3857  207 non-null    float64\n",
      " 30  0.1307  207 non-null    float64\n",
      " 31  0.2604  207 non-null    float64\n",
      " 32  0.5121  207 non-null    float64\n",
      " 33  0.7547  207 non-null    float64\n",
      " 34  0.8537  207 non-null    float64\n",
      " 35  0.8507  207 non-null    float64\n",
      " 36  0.6692  207 non-null    float64\n",
      " 37  0.6097  207 non-null    float64\n",
      " 38  0.4943  207 non-null    float64\n",
      " 39  0.2744  207 non-null    float64\n",
      " 40  0.0510  207 non-null    float64\n",
      " 41  0.2834  207 non-null    float64\n",
      " 42  0.2825  207 non-null    float64\n",
      " 43  0.4256  207 non-null    float64\n",
      " 44  0.2641  207 non-null    float64\n",
      " 45  0.1386  207 non-null    float64\n",
      " 46  0.1051  207 non-null    float64\n",
      " 47  0.1343  207 non-null    float64\n",
      " 48  0.0383  207 non-null    float64\n",
      " 49  0.0324  207 non-null    float64\n",
      " 50  0.0232  207 non-null    float64\n",
      " 51  0.0027  207 non-null    float64\n",
      " 52  0.0065  207 non-null    float64\n",
      " 53  0.0159  207 non-null    float64\n",
      " 54  0.0072  207 non-null    float64\n",
      " 55  0.0167  207 non-null    float64\n",
      " 56  0.0180  207 non-null    float64\n",
      " 57  0.0084  207 non-null    float64\n",
      " 58  0.0090  207 non-null    float64\n",
      " 59  0.0032  207 non-null    float64\n",
      " 60  R       207 non-null    object \n",
      "dtypes: float64(60), object(1)\n",
      "memory usage: 98.8+ KB\n"
     ]
    }
   ],
   "source": [
    "df.info()"
   ]
  },
  {
   "cell_type": "code",
   "execution_count": 5,
   "id": "584ccb1d",
   "metadata": {
    "execution": {
     "iopub.execute_input": "2023-03-25T15:05:02.145232Z",
     "iopub.status.busy": "2023-03-25T15:05:02.144808Z",
     "iopub.status.idle": "2023-03-25T15:05:02.151633Z",
     "shell.execute_reply": "2023-03-25T15:05:02.150610Z"
    },
    "papermill": {
     "duration": 0.019533,
     "end_time": "2023-03-25T15:05:02.153772",
     "exception": false,
     "start_time": "2023-03-25T15:05:02.134239",
     "status": "completed"
    },
    "tags": []
   },
   "outputs": [],
   "source": [
    "df['R']=df['R'].apply(lambda x: 0 if x=='R' else 1)"
   ]
  },
  {
   "cell_type": "code",
   "execution_count": 6,
   "id": "4e0c62e4",
   "metadata": {
    "execution": {
     "iopub.execute_input": "2023-03-25T15:05:02.174399Z",
     "iopub.status.busy": "2023-03-25T15:05:02.173596Z",
     "iopub.status.idle": "2023-03-25T15:05:02.179133Z",
     "shell.execute_reply": "2023-03-25T15:05:02.178315Z"
    },
    "papermill": {
     "duration": 0.018209,
     "end_time": "2023-03-25T15:05:02.181275",
     "exception": false,
     "start_time": "2023-03-25T15:05:02.163066",
     "status": "completed"
    },
    "tags": []
   },
   "outputs": [],
   "source": [
    "X=df.drop('R',axis=1)\n",
    "y=df['R']"
   ]
  },
  {
   "cell_type": "code",
   "execution_count": 7,
   "id": "4f96343b",
   "metadata": {
    "execution": {
     "iopub.execute_input": "2023-03-25T15:05:02.201360Z",
     "iopub.status.busy": "2023-03-25T15:05:02.200634Z",
     "iopub.status.idle": "2023-03-25T15:05:02.209212Z",
     "shell.execute_reply": "2023-03-25T15:05:02.208150Z"
    },
    "papermill": {
     "duration": 0.021064,
     "end_time": "2023-03-25T15:05:02.211456",
     "exception": false,
     "start_time": "2023-03-25T15:05:02.190392",
     "status": "completed"
    },
    "tags": []
   },
   "outputs": [
    {
     "data": {
      "text/plain": [
       "array([0, 1])"
      ]
     },
     "execution_count": 7,
     "metadata": {},
     "output_type": "execute_result"
    }
   ],
   "source": [
    "y.unique()"
   ]
  },
  {
   "cell_type": "code",
   "execution_count": 8,
   "id": "478c3360",
   "metadata": {
    "execution": {
     "iopub.execute_input": "2023-03-25T15:05:02.232884Z",
     "iopub.status.busy": "2023-03-25T15:05:02.231946Z",
     "iopub.status.idle": "2023-03-25T15:05:03.302301Z",
     "shell.execute_reply": "2023-03-25T15:05:03.301144Z"
    },
    "papermill": {
     "duration": 1.083615,
     "end_time": "2023-03-25T15:05:03.305190",
     "exception": false,
     "start_time": "2023-03-25T15:05:02.221575",
     "status": "completed"
    },
    "tags": []
   },
   "outputs": [],
   "source": [
    "from sklearn.model_selection import train_test_split"
   ]
  },
  {
   "cell_type": "code",
   "execution_count": 9,
   "id": "f013810c",
   "metadata": {
    "execution": {
     "iopub.execute_input": "2023-03-25T15:05:03.325672Z",
     "iopub.status.busy": "2023-03-25T15:05:03.325265Z",
     "iopub.status.idle": "2023-03-25T15:05:03.333812Z",
     "shell.execute_reply": "2023-03-25T15:05:03.332627Z"
    },
    "papermill": {
     "duration": 0.021674,
     "end_time": "2023-03-25T15:05:03.336269",
     "exception": false,
     "start_time": "2023-03-25T15:05:03.314595",
     "status": "completed"
    },
    "tags": []
   },
   "outputs": [],
   "source": [
    "X_train, X_test, y_train, y_test = train_test_split(X, y, test_size=0.15, random_state=101)"
   ]
  },
  {
   "cell_type": "code",
   "execution_count": 10,
   "id": "fbc024e3",
   "metadata": {
    "execution": {
     "iopub.execute_input": "2023-03-25T15:05:03.357428Z",
     "iopub.status.busy": "2023-03-25T15:05:03.356964Z",
     "iopub.status.idle": "2023-03-25T15:05:03.362252Z",
     "shell.execute_reply": "2023-03-25T15:05:03.360905Z"
    },
    "papermill": {
     "duration": 0.01909,
     "end_time": "2023-03-25T15:05:03.364623",
     "exception": false,
     "start_time": "2023-03-25T15:05:03.345533",
     "status": "completed"
    },
    "tags": []
   },
   "outputs": [],
   "source": [
    "from sklearn.preprocessing import StandardScaler"
   ]
  },
  {
   "cell_type": "code",
   "execution_count": 11,
   "id": "2b82cab9",
   "metadata": {
    "execution": {
     "iopub.execute_input": "2023-03-25T15:05:03.385383Z",
     "iopub.status.busy": "2023-03-25T15:05:03.384933Z",
     "iopub.status.idle": "2023-03-25T15:05:03.389862Z",
     "shell.execute_reply": "2023-03-25T15:05:03.388906Z"
    },
    "papermill": {
     "duration": 0.018269,
     "end_time": "2023-03-25T15:05:03.392262",
     "exception": false,
     "start_time": "2023-03-25T15:05:03.373993",
     "status": "completed"
    },
    "tags": []
   },
   "outputs": [],
   "source": [
    "scaler=StandardScaler()"
   ]
  },
  {
   "cell_type": "code",
   "execution_count": 12,
   "id": "725158d9",
   "metadata": {
    "execution": {
     "iopub.execute_input": "2023-03-25T15:05:03.413792Z",
     "iopub.status.busy": "2023-03-25T15:05:03.413091Z",
     "iopub.status.idle": "2023-03-25T15:05:03.427738Z",
     "shell.execute_reply": "2023-03-25T15:05:03.426649Z"
    },
    "papermill": {
     "duration": 0.028267,
     "end_time": "2023-03-25T15:05:03.430329",
     "exception": false,
     "start_time": "2023-03-25T15:05:03.402062",
     "status": "completed"
    },
    "tags": []
   },
   "outputs": [],
   "source": [
    "scaled_X_train=scaler.fit_transform(X_train)\n",
    "scaled_X_test=scaler.fit_transform(X_test)"
   ]
  },
  {
   "cell_type": "code",
   "execution_count": 13,
   "id": "0696cafa",
   "metadata": {
    "execution": {
     "iopub.execute_input": "2023-03-25T15:05:03.451772Z",
     "iopub.status.busy": "2023-03-25T15:05:03.451046Z",
     "iopub.status.idle": "2023-03-25T15:05:03.648664Z",
     "shell.execute_reply": "2023-03-25T15:05:03.647414Z"
    },
    "papermill": {
     "duration": 0.211826,
     "end_time": "2023-03-25T15:05:03.651844",
     "exception": false,
     "start_time": "2023-03-25T15:05:03.440018",
     "status": "completed"
    },
    "tags": []
   },
   "outputs": [],
   "source": [
    "from sklearn.neighbors import KNeighborsClassifier"
   ]
  },
  {
   "cell_type": "code",
   "execution_count": 14,
   "id": "182ca133",
   "metadata": {
    "execution": {
     "iopub.execute_input": "2023-03-25T15:05:03.672762Z",
     "iopub.status.busy": "2023-03-25T15:05:03.671781Z",
     "iopub.status.idle": "2023-03-25T15:05:03.677349Z",
     "shell.execute_reply": "2023-03-25T15:05:03.676055Z"
    },
    "papermill": {
     "duration": 0.018353,
     "end_time": "2023-03-25T15:05:03.679552",
     "exception": false,
     "start_time": "2023-03-25T15:05:03.661199",
     "status": "completed"
    },
    "tags": []
   },
   "outputs": [],
   "source": [
    "KNN_model=KNeighborsClassifier()"
   ]
  },
  {
   "cell_type": "code",
   "execution_count": 15,
   "id": "3cf11b66",
   "metadata": {
    "execution": {
     "iopub.execute_input": "2023-03-25T15:05:03.700344Z",
     "iopub.status.busy": "2023-03-25T15:05:03.699634Z",
     "iopub.status.idle": "2023-03-25T15:05:03.712132Z",
     "shell.execute_reply": "2023-03-25T15:05:03.710842Z"
    },
    "papermill": {
     "duration": 0.025836,
     "end_time": "2023-03-25T15:05:03.714626",
     "exception": false,
     "start_time": "2023-03-25T15:05:03.688790",
     "status": "completed"
    },
    "tags": []
   },
   "outputs": [
    {
     "data": {
      "text/plain": [
       "KNeighborsClassifier()"
      ]
     },
     "execution_count": 15,
     "metadata": {},
     "output_type": "execute_result"
    }
   ],
   "source": [
    "KNN_model.fit(scaled_X_train,y_train)"
   ]
  },
  {
   "cell_type": "code",
   "execution_count": 16,
   "id": "eda2e6ac",
   "metadata": {
    "execution": {
     "iopub.execute_input": "2023-03-25T15:05:03.735864Z",
     "iopub.status.busy": "2023-03-25T15:05:03.734994Z",
     "iopub.status.idle": "2023-03-25T15:05:03.748224Z",
     "shell.execute_reply": "2023-03-25T15:05:03.746457Z"
    },
    "papermill": {
     "duration": 0.029144,
     "end_time": "2023-03-25T15:05:03.753111",
     "exception": false,
     "start_time": "2023-03-25T15:05:03.723967",
     "status": "completed"
    },
    "tags": []
   },
   "outputs": [],
   "source": [
    "pred=KNN_model.predict(scaled_X_test)"
   ]
  },
  {
   "cell_type": "code",
   "execution_count": 17,
   "id": "e42e223f",
   "metadata": {
    "execution": {
     "iopub.execute_input": "2023-03-25T15:05:03.804613Z",
     "iopub.status.busy": "2023-03-25T15:05:03.803777Z",
     "iopub.status.idle": "2023-03-25T15:05:03.811491Z",
     "shell.execute_reply": "2023-03-25T15:05:03.810167Z"
    },
    "papermill": {
     "duration": 0.038646,
     "end_time": "2023-03-25T15:05:03.816168",
     "exception": false,
     "start_time": "2023-03-25T15:05:03.777522",
     "status": "completed"
    },
    "tags": []
   },
   "outputs": [],
   "source": [
    "from sklearn.metrics import confusion_matrix,plot_confusion_matrix"
   ]
  },
  {
   "cell_type": "code",
   "execution_count": 18,
   "id": "fe8c31e1",
   "metadata": {
    "execution": {
     "iopub.execute_input": "2023-03-25T15:05:03.866776Z",
     "iopub.status.busy": "2023-03-25T15:05:03.866354Z",
     "iopub.status.idle": "2023-03-25T15:05:03.876510Z",
     "shell.execute_reply": "2023-03-25T15:05:03.875498Z"
    },
    "papermill": {
     "duration": 0.03808,
     "end_time": "2023-03-25T15:05:03.878937",
     "exception": false,
     "start_time": "2023-03-25T15:05:03.840857",
     "status": "completed"
    },
    "tags": []
   },
   "outputs": [
    {
     "data": {
      "text/plain": [
       "array([[10,  6],\n",
       "       [ 1, 15]])"
      ]
     },
     "execution_count": 18,
     "metadata": {},
     "output_type": "execute_result"
    }
   ],
   "source": [
    "confusion_matrix(y_test,pred)"
   ]
  },
  {
   "cell_type": "code",
   "execution_count": 19,
   "id": "3d34eac6",
   "metadata": {
    "execution": {
     "iopub.execute_input": "2023-03-25T15:05:03.899992Z",
     "iopub.status.busy": "2023-03-25T15:05:03.899171Z",
     "iopub.status.idle": "2023-03-25T15:05:04.274511Z",
     "shell.execute_reply": "2023-03-25T15:05:04.273246Z"
    },
    "papermill": {
     "duration": 0.388776,
     "end_time": "2023-03-25T15:05:04.277191",
     "exception": false,
     "start_time": "2023-03-25T15:05:03.888415",
     "status": "completed"
    },
    "tags": []
   },
   "outputs": [
    {
     "name": "stderr",
     "output_type": "stream",
     "text": [
      "/opt/conda/lib/python3.7/site-packages/sklearn/utils/deprecation.py:87: FutureWarning: Function plot_confusion_matrix is deprecated; Function `plot_confusion_matrix` is deprecated in 1.0 and will be removed in 1.2. Use one of the class methods: ConfusionMatrixDisplay.from_predictions or ConfusionMatrixDisplay.from_estimator.\n",
      "  warnings.warn(msg, category=FutureWarning)\n"
     ]
    },
    {
     "data": {
      "text/plain": [
       "<sklearn.metrics._plot.confusion_matrix.ConfusionMatrixDisplay at 0x7f5ecf54c410>"
      ]
     },
     "execution_count": 19,
     "metadata": {},
     "output_type": "execute_result"
    },
    {
     "data": {
      "image/png": "[encoded data removed]",
      "text/plain": [
       "<Figure size 640x480 with 2 Axes>"
      ]
     },
     "metadata": {},
     "output_type": "display_data"
    }
   ],
   "source": [
    "plot_confusion_matrix(KNN_model,scaled_X_test,y_test)"
   ]
  },
  {
   "cell_type": "code",
   "execution_count": 20,
   "id": "9a8db49c",
   "metadata": {
    "execution": {
     "iopub.execute_input": "2023-03-25T15:05:04.299339Z",
     "iopub.status.busy": "2023-03-25T15:05:04.298595Z",
     "iopub.status.idle": "2023-03-25T15:05:04.303522Z",
     "shell.execute_reply": "2023-03-25T15:05:04.302379Z"
    },
    "papermill": {
     "duration": 0.01845,
     "end_time": "2023-03-25T15:05:04.305725",
     "exception": false,
     "start_time": "2023-03-25T15:05:04.287275",
     "status": "completed"
    },
    "tags": []
   },
   "outputs": [],
   "source": [
    "# using pipe line"
   ]
  },
  {
   "cell_type": "code",
   "execution_count": 21,
   "id": "b554dc7e",
   "metadata": {
    "execution": {
     "iopub.execute_input": "2023-03-25T15:05:04.327911Z",
     "iopub.status.busy": "2023-03-25T15:05:04.327157Z",
     "iopub.status.idle": "2023-03-25T15:05:04.331624Z",
     "shell.execute_reply": "2023-03-25T15:05:04.330603Z"
    },
    "papermill": {
     "duration": 0.018257,
     "end_time": "2023-03-25T15:05:04.334038",
     "exception": false,
     "start_time": "2023-03-25T15:05:04.315781",
     "status": "completed"
    },
    "tags": []
   },
   "outputs": [],
   "source": [
    "from sklearn.preprocessing import StandardScaler"
   ]
  },
  {
   "cell_type": "code",
   "execution_count": 22,
   "id": "eb0b568c",
   "metadata": {
    "execution": {
     "iopub.execute_input": "2023-03-25T15:05:04.356410Z",
     "iopub.status.busy": "2023-03-25T15:05:04.355278Z",
     "iopub.status.idle": "2023-03-25T15:05:04.360641Z",
     "shell.execute_reply": "2023-03-25T15:05:04.359529Z"
    },
    "papermill": {
     "duration": 0.019121,
     "end_time": "2023-03-25T15:05:04.363153",
     "exception": false,
     "start_time": "2023-03-25T15:05:04.344032",
     "status": "completed"
    },
    "tags": []
   },
   "outputs": [],
   "source": [
    "scaler=StandardScaler()"
   ]
  },
  {
   "cell_type": "code",
   "execution_count": 23,
   "id": "233a2816",
   "metadata": {
    "execution": {
     "iopub.execute_input": "2023-03-25T15:05:04.384790Z",
     "iopub.status.busy": "2023-03-25T15:05:04.384397Z",
     "iopub.status.idle": "2023-03-25T15:05:04.397547Z",
     "shell.execute_reply": "2023-03-25T15:05:04.396327Z"
    },
    "papermill": {
     "duration": 0.0269,
     "end_time": "2023-03-25T15:05:04.400068",
     "exception": false,
     "start_time": "2023-03-25T15:05:04.373168",
     "status": "completed"
    },
    "tags": []
   },
   "outputs": [],
   "source": [
    "scaled_X_train=scaler.fit_transform(X_train)\n",
    "scaled_X_test=scaler.fit_transform(X_test)"
   ]
  },
  {
   "cell_type": "code",
   "execution_count": 24,
   "id": "c70e07e3",
   "metadata": {
    "execution": {
     "iopub.execute_input": "2023-03-25T15:05:04.421931Z",
     "iopub.status.busy": "2023-03-25T15:05:04.421468Z",
     "iopub.status.idle": "2023-03-25T15:05:04.426929Z",
     "shell.execute_reply": "2023-03-25T15:05:04.425681Z"
    },
    "papermill": {
     "duration": 0.019234,
     "end_time": "2023-03-25T15:05:04.429308",
     "exception": false,
     "start_time": "2023-03-25T15:05:04.410074",
     "status": "completed"
    },
    "tags": []
   },
   "outputs": [],
   "source": [
    "from sklearn.neighbors import KNeighborsClassifier"
   ]
  },
  {
   "cell_type": "code",
   "execution_count": 25,
   "id": "6d8b02c8",
   "metadata": {
    "execution": {
     "iopub.execute_input": "2023-03-25T15:05:04.451687Z",
     "iopub.status.busy": "2023-03-25T15:05:04.451260Z",
     "iopub.status.idle": "2023-03-25T15:05:04.456297Z",
     "shell.execute_reply": "2023-03-25T15:05:04.455084Z"
    },
    "papermill": {
     "duration": 0.019128,
     "end_time": "2023-03-25T15:05:04.458504",
     "exception": false,
     "start_time": "2023-03-25T15:05:04.439376",
     "status": "completed"
    },
    "tags": []
   },
   "outputs": [],
   "source": [
    "KNN_model=KNeighborsClassifier()"
   ]
  },
  {
   "cell_type": "code",
   "execution_count": 26,
   "id": "0b80e996",
   "metadata": {
    "execution": {
     "iopub.execute_input": "2023-03-25T15:05:04.480550Z",
     "iopub.status.busy": "2023-03-25T15:05:04.479824Z",
     "iopub.status.idle": "2023-03-25T15:05:04.484692Z",
     "shell.execute_reply": "2023-03-25T15:05:04.483550Z"
    },
    "papermill": {
     "duration": 0.018501,
     "end_time": "2023-03-25T15:05:04.486938",
     "exception": false,
     "start_time": "2023-03-25T15:05:04.468437",
     "status": "completed"
    },
    "tags": []
   },
   "outputs": [],
   "source": [
    "operations= [('scaler',scaler),('KNN_model',KNN_model)]"
   ]
  },
  {
   "cell_type": "code",
   "execution_count": 27,
   "id": "65dd43cd",
   "metadata": {
    "execution": {
     "iopub.execute_input": "2023-03-25T15:05:04.508708Z",
     "iopub.status.busy": "2023-03-25T15:05:04.508286Z",
     "iopub.status.idle": "2023-03-25T15:05:04.521243Z",
     "shell.execute_reply": "2023-03-25T15:05:04.520145Z"
    },
    "papermill": {
     "duration": 0.026929,
     "end_time": "2023-03-25T15:05:04.523875",
     "exception": false,
     "start_time": "2023-03-25T15:05:04.496946",
     "status": "completed"
    },
    "tags": []
   },
   "outputs": [],
   "source": [
    "from sklearn.pipeline import Pipeline"
   ]
  },
  {
   "cell_type": "code",
   "execution_count": 28,
   "id": "65c89f17",
   "metadata": {
    "execution": {
     "iopub.execute_input": "2023-03-25T15:05:04.545681Z",
     "iopub.status.busy": "2023-03-25T15:05:04.545268Z",
     "iopub.status.idle": "2023-03-25T15:05:04.550773Z",
     "shell.execute_reply": "2023-03-25T15:05:04.549269Z"
    },
    "papermill": {
     "duration": 0.019172,
     "end_time": "2023-03-25T15:05:04.553238",
     "exception": false,
     "start_time": "2023-03-25T15:05:04.534066",
     "status": "completed"
    },
    "tags": []
   },
   "outputs": [],
   "source": [
    "pipe=Pipeline(operations)"
   ]
  },
  {
   "cell_type": "code",
   "execution_count": 29,
   "id": "dad35565",
   "metadata": {
    "execution": {
     "iopub.execute_input": "2023-03-25T15:05:04.574997Z",
     "iopub.status.busy": "2023-03-25T15:05:04.574613Z",
     "iopub.status.idle": "2023-03-25T15:05:04.579331Z",
     "shell.execute_reply": "2023-03-25T15:05:04.578166Z"
    },
    "papermill": {
     "duration": 0.018724,
     "end_time": "2023-03-25T15:05:04.581940",
     "exception": false,
     "start_time": "2023-03-25T15:05:04.563216",
     "status": "completed"
    },
    "tags": []
   },
   "outputs": [],
   "source": [
    "from sklearn.model_selection import GridSearchCV"
   ]
  },
  {
   "cell_type": "code",
   "execution_count": 30,
   "id": "c4e026ca",
   "metadata": {
    "execution": {
     "iopub.execute_input": "2023-03-25T15:05:04.604673Z",
     "iopub.status.busy": "2023-03-25T15:05:04.603901Z",
     "iopub.status.idle": "2023-03-25T15:05:04.608308Z",
     "shell.execute_reply": "2023-03-25T15:05:04.607419Z"
    },
    "papermill": {
     "duration": 0.018483,
     "end_time": "2023-03-25T15:05:04.610731",
     "exception": false,
     "start_time": "2023-03-25T15:05:04.592248",
     "status": "completed"
    },
    "tags": []
   },
   "outputs": [],
   "source": [
    "k_values=list(range(1,30))"
   ]
  },
  {
   "cell_type": "code",
   "execution_count": 31,
   "id": "d85ea46a",
   "metadata": {
    "execution": {
     "iopub.execute_input": "2023-03-25T15:05:04.632947Z",
     "iopub.status.busy": "2023-03-25T15:05:04.632155Z",
     "iopub.status.idle": "2023-03-25T15:05:04.637425Z",
     "shell.execute_reply": "2023-03-25T15:05:04.636144Z"
    },
    "papermill": {
     "duration": 0.019129,
     "end_time": "2023-03-25T15:05:04.639894",
     "exception": false,
     "start_time": "2023-03-25T15:05:04.620765",
     "status": "completed"
    },
    "tags": []
   },
   "outputs": [],
   "source": [
    "param_grid={\"KNN_model__n_neighbors\":k_values}"
   ]
  },
  {
   "cell_type": "code",
   "execution_count": 32,
   "id": "c79d3d84",
   "metadata": {
    "execution": {
     "iopub.execute_input": "2023-03-25T15:05:04.662263Z",
     "iopub.status.busy": "2023-03-25T15:05:04.661463Z",
     "iopub.status.idle": "2023-03-25T15:05:04.666127Z",
     "shell.execute_reply": "2023-03-25T15:05:04.665294Z"
    },
    "papermill": {
     "duration": 0.018358,
     "end_time": "2023-03-25T15:05:04.668492",
     "exception": false,
     "start_time": "2023-03-25T15:05:04.650134",
     "status": "completed"
    },
    "tags": []
   },
   "outputs": [],
   "source": [
    "full_cv_classifier=GridSearchCV(pipe,param_grid,cv=5,scoring='accuracy')"
   ]
  },
  {
   "cell_type": "code",
   "execution_count": 33,
   "id": "60f4aff3",
   "metadata": {
    "execution": {
     "iopub.execute_input": "2023-03-25T15:05:04.691091Z",
     "iopub.status.busy": "2023-03-25T15:05:04.690331Z",
     "iopub.status.idle": "2023-03-25T15:05:07.689555Z",
     "shell.execute_reply": "2023-03-25T15:05:07.687871Z"
    },
    "papermill": {
     "duration": 3.015399,
     "end_time": "2023-03-25T15:05:07.693964",
     "exception": false,
     "start_time": "2023-03-25T15:05:04.678565",
     "status": "completed"
    },
    "tags": []
   },
   "outputs": [
    {
     "data": {
      "text/plain": [
       "GridSearchCV(cv=5,\n",
       "             estimator=Pipeline(steps=[('scaler', StandardScaler()),\n",
       "                                       ('KNN_model', KNeighborsClassifier())]),\n",
       "             param_grid={'KNN_model__n_neighbors': [1, 2, 3, 4, 5, 6, 7, 8, 9,\n",
       "                                                    10, 11, 12, 13, 14, 15, 16,\n",
       "                                                    17, 18, 19, 20, 21, 22, 23,\n",
       "                                                    24, 25, 26, 27, 28, 29]},\n",
       "             scoring='accuracy')"
      ]
     },
     "execution_count": 33,
     "metadata": {},
     "output_type": "execute_result"
    }
   ],
   "source": [
    "full_cv_classifier.fit(X_train,y_train)"
   ]
  },
  {
   "cell_type": "code",
   "execution_count": 34,
   "id": "461f5e87",
   "metadata": {
    "execution": {
     "iopub.execute_input": "2023-03-25T15:05:07.748944Z",
     "iopub.status.busy": "2023-03-25T15:05:07.748217Z",
     "iopub.status.idle": "2023-03-25T15:05:07.763318Z",
     "shell.execute_reply": "2023-03-25T15:05:07.761648Z"
    },
    "papermill": {
     "duration": 0.04683,
     "end_time": "2023-03-25T15:05:07.767409",
     "exception": false,
     "start_time": "2023-03-25T15:05:07.720579",
     "status": "completed"
    },
    "tags": []
   },
   "outputs": [
    {
     "data": {
      "text/plain": [
       "{'memory': None,\n",
       " 'steps': [('scaler', StandardScaler()),\n",
       "  ('KNN_model', KNeighborsClassifier(n_neighbors=2))],\n",
       " 'verbose': False,\n",
       " 'scaler': StandardScaler(),\n",
       " 'KNN_model': KNeighborsClassifier(n_neighbors=2),\n",
       " 'scaler__copy': True,\n",
       " 'scaler__with_mean': True,\n",
       " 'scaler__with_std': True,\n",
       " 'KNN_model__algorithm': 'auto',\n",
       " 'KNN_model__leaf_size': 30,\n",
       " 'KNN_model__metric': 'minkowski',\n",
       " 'KNN_model__metric_params': None,\n",
       " 'KNN_model__n_jobs': None,\n",
       " 'KNN_model__n_neighbors': 2,\n",
       " 'KNN_model__p': 2,\n",
       " 'KNN_model__weights': 'uniform'}"
      ]
     },
     "execution_count": 34,
     "metadata": {},
     "output_type": "execute_result"
    }
   ],
   "source": [
    "full_cv_classifier.best_estimator_.get_params()"
   ]
  },
  {
   "cell_type": "code",
   "execution_count": 35,
   "id": "217de5fc",
   "metadata": {
    "execution": {
     "iopub.execute_input": "2023-03-25T15:05:07.796593Z",
     "iopub.status.busy": "2023-03-25T15:05:07.796195Z",
     "iopub.status.idle": "2023-03-25T15:05:07.808685Z",
     "shell.execute_reply": "2023-03-25T15:05:07.806966Z"
    },
    "papermill": {
     "duration": 0.028701,
     "end_time": "2023-03-25T15:05:07.812990",
     "exception": false,
     "start_time": "2023-03-25T15:05:07.784289",
     "status": "completed"
    },
    "tags": []
   },
   "outputs": [],
   "source": [
    "y_pred=full_cv_classifier.predict(X_test)"
   ]
  },
  {
   "cell_type": "code",
   "execution_count": 36,
   "id": "74649fe7",
   "metadata": {
    "execution": {
     "iopub.execute_input": "2023-03-25T15:05:07.871347Z",
     "iopub.status.busy": "2023-03-25T15:05:07.870577Z",
     "iopub.status.idle": "2023-03-25T15:05:07.883831Z",
     "shell.execute_reply": "2023-03-25T15:05:07.882242Z"
    },
    "papermill": {
     "duration": 0.04601,
     "end_time": "2023-03-25T15:05:07.888059",
     "exception": false,
     "start_time": "2023-03-25T15:05:07.842049",
     "status": "completed"
    },
    "tags": []
   },
   "outputs": [
    {
     "data": {
      "text/plain": [
       "array([[15,  1],\n",
       "       [ 2, 14]])"
      ]
     },
     "execution_count": 36,
     "metadata": {},
     "output_type": "execute_result"
    }
   ],
   "source": [
    "confusion_matrix(y_test,y_pred)"
   ]
  },
  {
   "cell_type": "code",
   "execution_count": null,
   "id": "d549c84b",
   "metadata": {
    "papermill": {
     "duration": 0.015717,
     "end_time": "2023-03-25T15:05:07.930538",
     "exception": false,
     "start_time": "2023-03-25T15:05:07.914821",
     "status": "completed"
    },
    "tags": []
   },
   "outputs": [],
   "source": []
  }
 ],
 "metadata": {
  "kernelspec": {
   "display_name": "Python 3",
   "language": "python",
   "name": "python3"
  },
  "language_info": {
   "codemirror_mode": {
    "name": "ipython",
    "version": 3
   },
   "file_extension": ".py",
   "mimetype": "text/x-python",
   "name": "python",
   "nbconvert_exporter": "python",
   "pygments_lexer": "ipython3",
   "version": "3.7.12"
  },
  "papermill": {
   "default_parameters": {},
   "duration": 16.92878,
   "end_time": "2023-03-25T15:05:08.662013",
   "environment_variables": {},
   "exception": null,
   "input_path": "__notebook__.ipynb",
   "output_path": "__notebook__.ipynb",
   "parameters": {},
   "start_time": "2023-03-25T15:04:51.733233",
   "version": "2.4.0"
  }
 },
 "nbformat": 4,
 "nbformat_minor": 5
}
