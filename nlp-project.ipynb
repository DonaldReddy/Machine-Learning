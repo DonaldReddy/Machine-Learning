{
 "cells": [
  {
   "cell_type": "code",
   "execution_count": 1,
   "id": "bc1a184d",
   "metadata": {
    "_cell_guid": "b1076dfc-b9ad-4769-8c92-a6c4dae69d19",
    "_uuid": "8f2839f25d086af736a60e9eeb907d3b93b6e0e5",
    "execution": {
     "iopub.execute_input": "2023-05-13T05:47:10.749139Z",
     "iopub.status.busy": "2023-05-13T05:47:10.748698Z",
     "iopub.status.idle": "2023-05-13T05:47:10.768475Z",
     "shell.execute_reply": "2023-05-13T05:47:10.767054Z"
    },
    "papermill": {
     "duration": 0.030069,
     "end_time": "2023-05-13T05:47:10.770724",
     "exception": false,
     "start_time": "2023-05-13T05:47:10.740655",
     "status": "completed"
    },
    "tags": []
   },
   "outputs": [
    {
     "name": "stdout",
     "output_type": "stream",
     "text": [
      "/kaggle/input/imdb-dataset-of-50k-movie-reviews/IMDB Dataset.csv\n"
     ]
    }
   ],
   "source": [
    "# This Python 3 environment comes with many helpful analytics libraries installed\n",
    "# It is defined by the kaggle/python Docker image: https://github.com/kaggle/docker-python\n",
    "# For example, here's several helpful packages to load\n",
    "\n",
    "import numpy as np # linear algebra\n",
    "import pandas as pd # data processing, CSV file I/O (e.g. pd.read_csv)\n",
    "\n",
    "# Input data files are available in the read-only \"../input/\" directory\n",
    "# For example, running this (by clicking run or pressing Shift+Enter) will list all files under the input directory\n",
    "\n",
    "import os\n",
    "for dirname, _, filenames in os.walk('/kaggle/input'):\n",
    "    for filename in filenames:\n",
    "        print(os.path.join(dirname, filename))\n",
    "\n",
    "# You can write up to 20GB to the current directory (/kaggle/working/) that gets preserved as output when you create a version using \"Save & Run All\" \n",
    "# You can also write temporary files to /kaggle/temp/, but they won't be saved outside of the current session"
   ]
  },
  {
   "cell_type": "code",
   "execution_count": 2,
   "id": "bea8cb09",
   "metadata": {
    "execution": {
     "iopub.execute_input": "2023-05-13T05:47:10.783307Z",
     "iopub.status.busy": "2023-05-13T05:47:10.782282Z",
     "iopub.status.idle": "2023-05-13T05:47:12.028638Z",
     "shell.execute_reply": "2023-05-13T05:47:12.027797Z"
    },
    "papermill": {
     "duration": 1.255203,
     "end_time": "2023-05-13T05:47:12.031020",
     "exception": false,
     "start_time": "2023-05-13T05:47:10.775817",
     "status": "completed"
    },
    "tags": []
   },
   "outputs": [
    {
     "name": "stderr",
     "output_type": "stream",
     "text": [
      "/opt/conda/lib/python3.10/site-packages/scipy/__init__.py:146: UserWarning: A NumPy version >=1.16.5 and <1.23.0 is required for this version of SciPy (detected version 1.23.5\n",
      "  warnings.warn(f\"A NumPy version >={np_minversion} and <{np_maxversion}\"\n"
     ]
    }
   ],
   "source": [
    "import seaborn as sb\n",
    "from matplotlib import pyplot as plt"
   ]
  },
  {
   "cell_type": "code",
   "execution_count": 3,
   "id": "3e630e4f",
   "metadata": {
    "execution": {
     "iopub.execute_input": "2023-05-13T05:47:12.043261Z",
     "iopub.status.busy": "2023-05-13T05:47:12.042357Z",
     "iopub.status.idle": "2023-05-13T05:47:13.620968Z",
     "shell.execute_reply": "2023-05-13T05:47:13.620196Z"
    },
    "papermill": {
     "duration": 1.586834,
     "end_time": "2023-05-13T05:47:13.623022",
     "exception": false,
     "start_time": "2023-05-13T05:47:12.036188",
     "status": "completed"
    },
    "tags": []
   },
   "outputs": [
    {
     "data": {
      "text/html": [
       "<div>\n",
       "<style scoped>\n",
       "    .dataframe tbody tr th:only-of-type {\n",
       "        vertical-align: middle;\n",
       "    }\n",
       "\n",
       "    .dataframe tbody tr th {\n",
       "        vertical-align: top;\n",
       "    }\n",
       "\n",
       "    .dataframe thead th {\n",
       "        text-align: right;\n",
       "    }\n",
       "</style>\n",
       "<table border=\"1\" class=\"dataframe\">\n",
       "  <thead>\n",
       "    <tr style=\"text-align: right;\">\n",
       "      <th></th>\n",
       "      <th>review</th>\n",
       "      <th>sentiment</th>\n",
       "    </tr>\n",
       "  </thead>\n",
       "  <tbody>\n",
       "    <tr>\n",
       "      <th>0</th>\n",
       "      <td>One of the other reviewers has mentioned that ...</td>\n",
       "      <td>positive</td>\n",
       "    </tr>\n",
       "    <tr>\n",
       "      <th>1</th>\n",
       "      <td>A wonderful little production. &lt;br /&gt;&lt;br /&gt;The...</td>\n",
       "      <td>positive</td>\n",
       "    </tr>\n",
       "    <tr>\n",
       "      <th>2</th>\n",
       "      <td>I thought this was a wonderful way to spend ti...</td>\n",
       "      <td>positive</td>\n",
       "    </tr>\n",
       "    <tr>\n",
       "      <th>3</th>\n",
       "      <td>Basically there's a family where a little boy ...</td>\n",
       "      <td>negative</td>\n",
       "    </tr>\n",
       "    <tr>\n",
       "      <th>4</th>\n",
       "      <td>Petter Mattei's \"Love in the Time of Money\" is...</td>\n",
       "      <td>positive</td>\n",
       "    </tr>\n",
       "    <tr>\n",
       "      <th>...</th>\n",
       "      <td>...</td>\n",
       "      <td>...</td>\n",
       "    </tr>\n",
       "    <tr>\n",
       "      <th>49995</th>\n",
       "      <td>I thought this movie did a down right good job...</td>\n",
       "      <td>positive</td>\n",
       "    </tr>\n",
       "    <tr>\n",
       "      <th>49996</th>\n",
       "      <td>Bad plot, bad dialogue, bad acting, idiotic di...</td>\n",
       "      <td>negative</td>\n",
       "    </tr>\n",
       "    <tr>\n",
       "      <th>49997</th>\n",
       "      <td>I am a Catholic taught in parochial elementary...</td>\n",
       "      <td>negative</td>\n",
       "    </tr>\n",
       "    <tr>\n",
       "      <th>49998</th>\n",
       "      <td>I'm going to have to disagree with the previou...</td>\n",
       "      <td>negative</td>\n",
       "    </tr>\n",
       "    <tr>\n",
       "      <th>49999</th>\n",
       "      <td>No one expects the Star Trek movies to be high...</td>\n",
       "      <td>negative</td>\n",
       "    </tr>\n",
       "  </tbody>\n",
       "</table>\n",
       "<p>50000 rows × 2 columns</p>\n",
       "</div>"
      ],
      "text/plain": [
       "                                                  review sentiment\n",
       "0      One of the other reviewers has mentioned that ...  positive\n",
       "1      A wonderful little production. <br /><br />The...  positive\n",
       "2      I thought this was a wonderful way to spend ti...  positive\n",
       "3      Basically there's a family where a little boy ...  negative\n",
       "4      Petter Mattei's \"Love in the Time of Money\" is...  positive\n",
       "...                                                  ...       ...\n",
       "49995  I thought this movie did a down right good job...  positive\n",
       "49996  Bad plot, bad dialogue, bad acting, idiotic di...  negative\n",
       "49997  I am a Catholic taught in parochial elementary...  negative\n",
       "49998  I'm going to have to disagree with the previou...  negative\n",
       "49999  No one expects the Star Trek movies to be high...  negative\n",
       "\n",
       "[50000 rows x 2 columns]"
      ]
     },
     "execution_count": 3,
     "metadata": {},
     "output_type": "execute_result"
    }
   ],
   "source": [
    "df=pd.read_csv('/kaggle/input/imdb-dataset-of-50k-movie-reviews/IMDB Dataset.csv')\n",
    "df"
   ]
  },
  {
   "cell_type": "code",
   "execution_count": 4,
   "id": "86340b67",
   "metadata": {
    "execution": {
     "iopub.execute_input": "2023-05-13T05:47:13.635895Z",
     "iopub.status.busy": "2023-05-13T05:47:13.634911Z",
     "iopub.status.idle": "2023-05-13T05:47:13.741670Z",
     "shell.execute_reply": "2023-05-13T05:47:13.740520Z"
    },
    "papermill": {
     "duration": 0.115547,
     "end_time": "2023-05-13T05:47:13.743941",
     "exception": false,
     "start_time": "2023-05-13T05:47:13.628394",
     "status": "completed"
    },
    "tags": []
   },
   "outputs": [
    {
     "data": {
      "text/html": [
       "<div>\n",
       "<style scoped>\n",
       "    .dataframe tbody tr th:only-of-type {\n",
       "        vertical-align: middle;\n",
       "    }\n",
       "\n",
       "    .dataframe tbody tr th {\n",
       "        vertical-align: top;\n",
       "    }\n",
       "\n",
       "    .dataframe thead th {\n",
       "        text-align: right;\n",
       "    }\n",
       "</style>\n",
       "<table border=\"1\" class=\"dataframe\">\n",
       "  <thead>\n",
       "    <tr style=\"text-align: right;\">\n",
       "      <th></th>\n",
       "      <th>review</th>\n",
       "      <th>sentiment</th>\n",
       "    </tr>\n",
       "  </thead>\n",
       "  <tbody>\n",
       "    <tr>\n",
       "      <th>count</th>\n",
       "      <td>50000</td>\n",
       "      <td>50000</td>\n",
       "    </tr>\n",
       "    <tr>\n",
       "      <th>unique</th>\n",
       "      <td>49582</td>\n",
       "      <td>2</td>\n",
       "    </tr>\n",
       "    <tr>\n",
       "      <th>top</th>\n",
       "      <td>Loved today's show!!! It was a variety and not...</td>\n",
       "      <td>positive</td>\n",
       "    </tr>\n",
       "    <tr>\n",
       "      <th>freq</th>\n",
       "      <td>5</td>\n",
       "      <td>25000</td>\n",
       "    </tr>\n",
       "  </tbody>\n",
       "</table>\n",
       "</div>"
      ],
      "text/plain": [
       "                                                   review sentiment\n",
       "count                                               50000     50000\n",
       "unique                                              49582         2\n",
       "top     Loved today's show!!! It was a variety and not...  positive\n",
       "freq                                                    5     25000"
      ]
     },
     "execution_count": 4,
     "metadata": {},
     "output_type": "execute_result"
    }
   ],
   "source": [
    "df.describe()"
   ]
  },
  {
   "cell_type": "code",
   "execution_count": 5,
   "id": "90eed6df",
   "metadata": {
    "execution": {
     "iopub.execute_input": "2023-05-13T05:47:13.757318Z",
     "iopub.status.busy": "2023-05-13T05:47:13.756937Z",
     "iopub.status.idle": "2023-05-13T05:47:13.794115Z",
     "shell.execute_reply": "2023-05-13T05:47:13.793259Z"
    },
    "papermill": {
     "duration": 0.04636,
     "end_time": "2023-05-13T05:47:13.796196",
     "exception": false,
     "start_time": "2023-05-13T05:47:13.749836",
     "status": "completed"
    },
    "tags": []
   },
   "outputs": [
    {
     "name": "stdout",
     "output_type": "stream",
     "text": [
      "<class 'pandas.core.frame.DataFrame'>\n",
      "RangeIndex: 50000 entries, 0 to 49999\n",
      "Data columns (total 2 columns):\n",
      " #   Column     Non-Null Count  Dtype \n",
      "---  ------     --------------  ----- \n",
      " 0   review     50000 non-null  object\n",
      " 1   sentiment  50000 non-null  object\n",
      "dtypes: object(2)\n",
      "memory usage: 781.4+ KB\n"
     ]
    }
   ],
   "source": [
    "df.info()"
   ]
  },
  {
   "cell_type": "code",
   "execution_count": 6,
   "id": "e833eb7f",
   "metadata": {
    "execution": {
     "iopub.execute_input": "2023-05-13T05:47:13.810002Z",
     "iopub.status.busy": "2023-05-13T05:47:13.808647Z",
     "iopub.status.idle": "2023-05-13T05:47:14.037455Z",
     "shell.execute_reply": "2023-05-13T05:47:14.036291Z"
    },
    "papermill": {
     "duration": 0.237961,
     "end_time": "2023-05-13T05:47:14.039829",
     "exception": false,
     "start_time": "2023-05-13T05:47:13.801868",
     "status": "completed"
    },
    "tags": []
   },
   "outputs": [
    {
     "data": {
      "text/plain": [
       "<AxesSubplot: xlabel='sentiment', ylabel='count'>"
      ]
     },
     "execution_count": 6,
     "metadata": {},
     "output_type": "execute_result"
    },
    {
     "data": {
      "image/png": "[encoded data removed]",
      "text/plain": [
       "<Figure size 640x480 with 1 Axes>"
      ]
     },
     "metadata": {},
     "output_type": "display_data"
    }
   ],
   "source": [
    "sb.countplot(data=df,x='sentiment')"
   ]
  },
  {
   "cell_type": "code",
   "execution_count": 7,
   "id": "ea1debf1",
   "metadata": {
    "execution": {
     "iopub.execute_input": "2023-05-13T05:47:14.053592Z",
     "iopub.status.busy": "2023-05-13T05:47:14.053212Z",
     "iopub.status.idle": "2023-05-13T05:47:14.057907Z",
     "shell.execute_reply": "2023-05-13T05:47:14.056869Z"
    },
    "papermill": {
     "duration": 0.014312,
     "end_time": "2023-05-13T05:47:14.060276",
     "exception": false,
     "start_time": "2023-05-13T05:47:14.045964",
     "status": "completed"
    },
    "tags": []
   },
   "outputs": [],
   "source": [
    "X=df['review']\n",
    "y=df['sentiment']"
   ]
  },
  {
   "cell_type": "code",
   "execution_count": 8,
   "id": "c3abbb2a",
   "metadata": {
    "execution": {
     "iopub.execute_input": "2023-05-13T05:47:14.074138Z",
     "iopub.status.busy": "2023-05-13T05:47:14.073710Z",
     "iopub.status.idle": "2023-05-13T05:47:14.308888Z",
     "shell.execute_reply": "2023-05-13T05:47:14.307946Z"
    },
    "papermill": {
     "duration": 0.245118,
     "end_time": "2023-05-13T05:47:14.311390",
     "exception": false,
     "start_time": "2023-05-13T05:47:14.066272",
     "status": "completed"
    },
    "tags": []
   },
   "outputs": [],
   "source": [
    "from sklearn.model_selection import train_test_split"
   ]
  },
  {
   "cell_type": "code",
   "execution_count": 9,
   "id": "dd8117cb",
   "metadata": {
    "execution": {
     "iopub.execute_input": "2023-05-13T05:47:14.325153Z",
     "iopub.status.busy": "2023-05-13T05:47:14.324762Z",
     "iopub.status.idle": "2023-05-13T05:47:14.338116Z",
     "shell.execute_reply": "2023-05-13T05:47:14.337266Z"
    },
    "papermill": {
     "duration": 0.022991,
     "end_time": "2023-05-13T05:47:14.340460",
     "exception": false,
     "start_time": "2023-05-13T05:47:14.317469",
     "status": "completed"
    },
    "tags": []
   },
   "outputs": [],
   "source": [
    "X_train, X_test, y_train, y_test = train_test_split(X, y, test_size=0.2, random_state=101)"
   ]
  },
  {
   "cell_type": "code",
   "execution_count": 10,
   "id": "abdae5ea",
   "metadata": {
    "execution": {
     "iopub.execute_input": "2023-05-13T05:47:14.354773Z",
     "iopub.status.busy": "2023-05-13T05:47:14.353887Z",
     "iopub.status.idle": "2023-05-13T05:47:14.368005Z",
     "shell.execute_reply": "2023-05-13T05:47:14.367024Z"
    },
    "papermill": {
     "duration": 0.023746,
     "end_time": "2023-05-13T05:47:14.370315",
     "exception": false,
     "start_time": "2023-05-13T05:47:14.346569",
     "status": "completed"
    },
    "tags": []
   },
   "outputs": [],
   "source": [
    "from sklearn.naive_bayes import MultinomialNB"
   ]
  },
  {
   "cell_type": "code",
   "execution_count": 11,
   "id": "78bedf9d",
   "metadata": {
    "execution": {
     "iopub.execute_input": "2023-05-13T05:47:14.384215Z",
     "iopub.status.busy": "2023-05-13T05:47:14.383843Z",
     "iopub.status.idle": "2023-05-13T05:47:14.387496Z",
     "shell.execute_reply": "2023-05-13T05:47:14.386768Z"
    },
    "papermill": {
     "duration": 0.013107,
     "end_time": "2023-05-13T05:47:14.389518",
     "exception": false,
     "start_time": "2023-05-13T05:47:14.376411",
     "status": "completed"
    },
    "tags": []
   },
   "outputs": [],
   "source": [
    "model=MultinomialNB()"
   ]
  },
  {
   "cell_type": "code",
   "execution_count": 12,
   "id": "1c037529",
   "metadata": {
    "execution": {
     "iopub.execute_input": "2023-05-13T05:47:14.403283Z",
     "iopub.status.busy": "2023-05-13T05:47:14.402512Z",
     "iopub.status.idle": "2023-05-13T05:47:14.420355Z",
     "shell.execute_reply": "2023-05-13T05:47:14.419373Z"
    },
    "papermill": {
     "duration": 0.027681,
     "end_time": "2023-05-13T05:47:14.423174",
     "exception": false,
     "start_time": "2023-05-13T05:47:14.395493",
     "status": "completed"
    },
    "tags": []
   },
   "outputs": [],
   "source": [
    "from sklearn.feature_extraction.text import TfidfVectorizer"
   ]
  },
  {
   "cell_type": "code",
   "execution_count": 13,
   "id": "a1c892aa",
   "metadata": {
    "execution": {
     "iopub.execute_input": "2023-05-13T05:47:14.438270Z",
     "iopub.status.busy": "2023-05-13T05:47:14.437097Z",
     "iopub.status.idle": "2023-05-13T05:47:30.312330Z",
     "shell.execute_reply": "2023-05-13T05:47:30.311361Z"
    },
    "papermill": {
     "duration": 15.88542,
     "end_time": "2023-05-13T05:47:30.314814",
     "exception": false,
     "start_time": "2023-05-13T05:47:14.429394",
     "status": "completed"
    },
    "tags": []
   },
   "outputs": [],
   "source": [
    "tfidf=TfidfVectorizer(stop_words='english',)\n",
    "tfidf.fit(X_train)\n",
    "X_train_tfidf=tfidf.transform(X_train)\n",
    "X_test_tfidf=tfidf.transform(X_test)"
   ]
  },
  {
   "cell_type": "code",
   "execution_count": 14,
   "id": "b2fcd2f3",
   "metadata": {
    "execution": {
     "iopub.execute_input": "2023-05-13T05:47:30.328808Z",
     "iopub.status.busy": "2023-05-13T05:47:30.328088Z",
     "iopub.status.idle": "2023-05-13T05:47:30.481123Z",
     "shell.execute_reply": "2023-05-13T05:47:30.480065Z"
    },
    "papermill": {
     "duration": 0.162249,
     "end_time": "2023-05-13T05:47:30.483274",
     "exception": false,
     "start_time": "2023-05-13T05:47:30.321025",
     "status": "completed"
    },
    "tags": []
   },
   "outputs": [
    {
     "data": {
      "text/html": [
       "<style>#sk-container-id-1 {color: black;background-color: white;}#sk-container-id-1 pre{padding: 0;}#sk-container-id-1 div.sk-toggleable {background-color: white;}#sk-container-id-1 label.sk-toggleable__label {cursor: pointer;display: block;width: 100%;margin-bottom: 0;padding: 0.3em;box-sizing: border-box;text-align: center;}#sk-container-id-1 label.sk-toggleable__label-arrow:before {content: \"▸\";float: left;margin-right: 0.25em;color: #696969;}#sk-container-id-1 label.sk-toggleable__label-arrow:hover:before {color: black;}#sk-container-id-1 div.sk-estimator:hover label.sk-toggleable__label-arrow:before {color: black;}#sk-container-id-1 div.sk-toggleable__content {max-height: 0;max-width: 0;overflow: hidden;text-align: left;background-color: #f0f8ff;}#sk-container-id-1 div.sk-toggleable__content pre {margin: 0.2em;color: black;border-radius: 0.25em;background-color: #f0f8ff;}#sk-container-id-1 input.sk-toggleable__control:checked~div.sk-toggleable__content {max-height: 200px;max-width: 100%;overflow: auto;}#sk-container-id-1 input.sk-toggleable__control:checked~label.sk-toggleable__label-arrow:before {content: \"▾\";}#sk-container-id-1 div.sk-estimator input.sk-toggleable__control:checked~label.sk-toggleable__label {background-color: #d4ebff;}#sk-container-id-1 div.sk-label input.sk-toggleable__control:checked~label.sk-toggleable__label {background-color: #d4ebff;}#sk-container-id-1 input.sk-hidden--visually {border: 0;clip: rect(1px 1px 1px 1px);clip: rect(1px, 1px, 1px, 1px);height: 1px;margin: -1px;overflow: hidden;padding: 0;position: absolute;width: 1px;}#sk-container-id-1 div.sk-estimator {font-family: monospace;background-color: #f0f8ff;border: 1px dotted black;border-radius: 0.25em;box-sizing: border-box;margin-bottom: 0.5em;}#sk-container-id-1 div.sk-estimator:hover {background-color: #d4ebff;}#sk-container-id-1 div.sk-parallel-item::after {content: \"\";width: 100%;border-bottom: 1px solid gray;flex-grow: 1;}#sk-container-id-1 div.sk-label:hover label.sk-toggleable__label {background-color: #d4ebff;}#sk-container-id-1 div.sk-serial::before {content: \"\";position: absolute;border-left: 1px solid gray;box-sizing: border-box;top: 0;bottom: 0;left: 50%;z-index: 0;}#sk-container-id-1 div.sk-serial {display: flex;flex-direction: column;align-items: center;background-color: white;padding-right: 0.2em;padding-left: 0.2em;position: relative;}#sk-container-id-1 div.sk-item {position: relative;z-index: 1;}#sk-container-id-1 div.sk-parallel {display: flex;align-items: stretch;justify-content: center;background-color: white;position: relative;}#sk-container-id-1 div.sk-item::before, #sk-container-id-1 div.sk-parallel-item::before {content: \"\";position: absolute;border-left: 1px solid gray;box-sizing: border-box;top: 0;bottom: 0;left: 50%;z-index: -1;}#sk-container-id-1 div.sk-parallel-item {display: flex;flex-direction: column;z-index: 1;position: relative;background-color: white;}#sk-container-id-1 div.sk-parallel-item:first-child::after {align-self: flex-end;width: 50%;}#sk-container-id-1 div.sk-parallel-item:last-child::after {align-self: flex-start;width: 50%;}#sk-container-id-1 div.sk-parallel-item:only-child::after {width: 0;}#sk-container-id-1 div.sk-dashed-wrapped {border: 1px dashed gray;margin: 0 0.4em 0.5em 0.4em;box-sizing: border-box;padding-bottom: 0.4em;background-color: white;}#sk-container-id-1 div.sk-label label {font-family: monospace;font-weight: bold;display: inline-block;line-height: 1.2em;}#sk-container-id-1 div.sk-label-container {text-align: center;}#sk-container-id-1 div.sk-container {/* jupyter's `normalize.less` sets `[hidden] { display: none; }` but bootstrap.min.css set `[hidden] { display: none !important; }` so we also need the `!important` here to be able to override the default hidden behavior on the sphinx rendered scikit-learn.org. See: https://github.com/scikit-learn/scikit-learn/issues/21755 */display: inline-block !important;position: relative;}#sk-container-id-1 div.sk-text-repr-fallback {display: none;}</style><div id=\"sk-container-id-1\" class=\"sk-top-container\"><div class=\"sk-text-repr-fallback\"><pre>MultinomialNB()</pre><b>In a Jupyter environment, please rerun this cell to show the HTML representation or trust the notebook. <br />On GitHub, the HTML representation is unable to render, please try loading this page with nbviewer.org.</b></div><div class=\"sk-container\" hidden><div class=\"sk-item\"><div class=\"sk-estimator sk-toggleable\"><input class=\"sk-toggleable__control sk-hidden--visually\" id=\"sk-estimator-id-1\" type=\"checkbox\" checked><label for=\"sk-estimator-id-1\" class=\"sk-toggleable__label sk-toggleable__label-arrow\">MultinomialNB</label><div class=\"sk-toggleable__content\"><pre>MultinomialNB()</pre></div></div></div></div></div>"
      ],
      "text/plain": [
       "MultinomialNB()"
      ]
     },
     "execution_count": 14,
     "metadata": {},
     "output_type": "execute_result"
    }
   ],
   "source": [
    "model.fit(X_train_tfidf,y_train)"
   ]
  },
  {
   "cell_type": "code",
   "execution_count": 15,
   "id": "67105a5b",
   "metadata": {
    "execution": {
     "iopub.execute_input": "2023-05-13T05:47:30.497044Z",
     "iopub.status.busy": "2023-05-13T05:47:30.496459Z",
     "iopub.status.idle": "2023-05-13T05:47:30.509713Z",
     "shell.execute_reply": "2023-05-13T05:47:30.508779Z"
    },
    "papermill": {
     "duration": 0.022593,
     "end_time": "2023-05-13T05:47:30.511891",
     "exception": false,
     "start_time": "2023-05-13T05:47:30.489298",
     "status": "completed"
    },
    "tags": []
   },
   "outputs": [],
   "source": [
    "preds=model.predict(X_test_tfidf)"
   ]
  },
  {
   "cell_type": "code",
   "execution_count": 16,
   "id": "5c0463f0",
   "metadata": {
    "execution": {
     "iopub.execute_input": "2023-05-13T05:47:30.526298Z",
     "iopub.status.busy": "2023-05-13T05:47:30.525903Z",
     "iopub.status.idle": "2023-05-13T05:47:30.530099Z",
     "shell.execute_reply": "2023-05-13T05:47:30.529149Z"
    },
    "papermill": {
     "duration": 0.013771,
     "end_time": "2023-05-13T05:47:30.532060",
     "exception": false,
     "start_time": "2023-05-13T05:47:30.518289",
     "status": "completed"
    },
    "tags": []
   },
   "outputs": [],
   "source": [
    "from sklearn.metrics import classification_report"
   ]
  },
  {
   "cell_type": "code",
   "execution_count": 17,
   "id": "a59ee17c",
   "metadata": {
    "execution": {
     "iopub.execute_input": "2023-05-13T05:47:30.546210Z",
     "iopub.status.busy": "2023-05-13T05:47:30.545851Z",
     "iopub.status.idle": "2023-05-13T05:47:30.851668Z",
     "shell.execute_reply": "2023-05-13T05:47:30.850335Z"
    },
    "papermill": {
     "duration": 0.31608,
     "end_time": "2023-05-13T05:47:30.854285",
     "exception": false,
     "start_time": "2023-05-13T05:47:30.538205",
     "status": "completed"
    },
    "tags": []
   },
   "outputs": [
    {
     "name": "stdout",
     "output_type": "stream",
     "text": [
      "              precision    recall  f1-score   support\n",
      "\n",
      "    negative       0.85      0.89      0.87      4959\n",
      "    positive       0.88      0.85      0.86      5041\n",
      "\n",
      "    accuracy                           0.87     10000\n",
      "   macro avg       0.87      0.87      0.87     10000\n",
      "weighted avg       0.87      0.87      0.87     10000\n",
      "\n"
     ]
    }
   ],
   "source": [
    "print(classification_report(y_test,preds))"
   ]
  },
  {
   "cell_type": "code",
   "execution_count": 18,
   "id": "f143a1c3",
   "metadata": {
    "execution": {
     "iopub.execute_input": "2023-05-13T05:47:30.868396Z",
     "iopub.status.busy": "2023-05-13T05:47:30.868018Z",
     "iopub.status.idle": "2023-05-13T05:47:30.873021Z",
     "shell.execute_reply": "2023-05-13T05:47:30.871841Z"
    },
    "papermill": {
     "duration": 0.014327,
     "end_time": "2023-05-13T05:47:30.875049",
     "exception": false,
     "start_time": "2023-05-13T05:47:30.860722",
     "status": "completed"
    },
    "tags": []
   },
   "outputs": [],
   "source": [
    "from sklearn.metrics import ConfusionMatrixDisplay"
   ]
  },
  {
   "cell_type": "code",
   "execution_count": 19,
   "id": "7c343f6d",
   "metadata": {
    "execution": {
     "iopub.execute_input": "2023-05-13T05:47:30.888952Z",
     "iopub.status.busy": "2023-05-13T05:47:30.888559Z",
     "iopub.status.idle": "2023-05-13T05:47:31.206053Z",
     "shell.execute_reply": "2023-05-13T05:47:31.205033Z"
    },
    "papermill": {
     "duration": 0.327306,
     "end_time": "2023-05-13T05:47:31.208606",
     "exception": false,
     "start_time": "2023-05-13T05:47:30.881300",
     "status": "completed"
    },
    "tags": []
   },
   "outputs": [
    {
     "data": {
      "text/plain": [
       "<sklearn.metrics._plot.confusion_matrix.ConfusionMatrixDisplay at 0x79a4ee487c10>"
      ]
     },
     "execution_count": 19,
     "metadata": {},
     "output_type": "execute_result"
    },
    {
     "data": {
      "image/png": "[encoded data removed]",
      "text/plain": [
       "<Figure size 640x480 with 2 Axes>"
      ]
     },
     "metadata": {},
     "output_type": "display_data"
    }
   ],
   "source": [
    "ConfusionMatrixDisplay.from_estimator(model,X_test_tfidf,y_test)"
   ]
  },
  {
   "cell_type": "code",
   "execution_count": null,
   "id": "59018566",
   "metadata": {
    "papermill": {
     "duration": 0.006495,
     "end_time": "2023-05-13T05:47:31.222040",
     "exception": false,
     "start_time": "2023-05-13T05:47:31.215545",
     "status": "completed"
    },
    "tags": []
   },
   "outputs": [],
   "source": []
  }
 ],
 "metadata": {
  "kernelspec": {
   "display_name": "Python 3",
   "language": "python",
   "name": "python3"
  },
  "language_info": {
   "codemirror_mode": {
    "name": "ipython",
    "version": 3
   },
   "file_extension": ".py",
   "mimetype": "text/x-python",
   "name": "python",
   "nbconvert_exporter": "python",
   "pygments_lexer": "ipython3",
   "version": "3.10.10"
  },
  "papermill": {
   "default_parameters": {},
   "duration": 31.317283,
   "end_time": "2023-05-13T05:47:32.251655",
   "environment_variables": {},
   "exception": null,
   "input_path": "__notebook__.ipynb",
   "output_path": "__notebook__.ipynb",
   "parameters": {},
   "start_time": "2023-05-13T05:47:00.934372",
   "version": "2.4.0"
  }
 },
 "nbformat": 4,
 "nbformat_minor": 5
}
